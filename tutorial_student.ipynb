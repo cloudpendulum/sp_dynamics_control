{
 "cells": [
  {
   "cell_type": "markdown",
   "metadata": {
    "cell_id": "394e6138cb5a4ec093df2646a0c8ae98",
    "deepnote_cell_height": 480,
    "deepnote_cell_type": "markdown"
   },
   "source": [
    "# Tutorial 01: Dynamics and control of a Simple Pendulum\n",
    "\n",
    "In this tutorial, you will implement forward and inverse dynamics of a simple pendulum system and study its applications in simulation as well as control.\n",
    "\n",
    "<div style=\"display: flex; justify-content: space-around;\">\n",
    "    <div><img src=\"media/crane.jpg\" width=\"400\"></div>\n",
    "    <div><img src=\"media/swing.gif\" width=\"400\"></div>\n",
    "</div>\n",
    "\n",
    "**Pre-requisites**\n",
    "\n",
    "Knowledge of kinematic and dynamic models of simple robots, basic knowledge of integration schemes, underactuated robots.\n",
    "\n",
    "**Goals**\n",
    "\n",
    "Exploring the modelling and some control strategies for underactuated robots.\n",
    "\n",
    "This notebook is organized as follows:\n",
    "\n",
    "    1. Recap: Lagrangian Derivation of Equations of Motion (EOM)\n",
    "    2. Derive the Solution to Forward and Inverse Dynamics\n",
    "    3. Simulation using Forward Dynamics\n",
    "    4. Gravity Compensation Control using Inverse Dynamics\n",
    "    5. PID + Gravity Compensation Control\n",
    "    6. Experiments on Pendulum Hardware \n",
    "      a. Free-fall experiment\n",
    "      b. Gravity compensation \n",
    "      c. PID + Gravity Compensation \n",
    "\n"
   ]
  },
  {
   "cell_type": "markdown",
   "metadata": {},
   "source": [
    "## 1. Recap: Lagrangian Derivation of EOM"
   ]
  },
  {
   "cell_type": "markdown",
   "metadata": {},
   "source": [
    "Consider a simple pendulum (undamped) as shown in the figure below. In the following, we will derive the EOM of the system using Python Symbolic Package called sympy.\n",
    "\n",
    "<img src=\"media/pendulum_undamped_axes.png\" width=\"400\">\n",
    "\n",
    "Physical parameters of the pendulum:\n",
    " * Mass: m\n",
    " * Length: l\n",
    " * Gravity: g"
   ]
  },
  {
   "cell_type": "code",
   "execution_count": null,
   "metadata": {},
   "outputs": [],
   "source": [
    "import sympy \n",
    "import numpy as np\n",
    "\n",
    "# Creates symbolic variable for physical parameters of the pendulum\n",
    "m = sympy.Symbol('m')  # mass\n",
    "l = sympy.Symbol('l')  # length\n",
    "g = sympy.Symbol('g')  # gravity"
   ]
  },
  {
   "cell_type": "markdown",
   "metadata": {},
   "source": [
    "The generalized coordinates and their derivatives are:\n",
    " * Angle: $q = \\theta$\n",
    " * Angular Velocity: $\\dot q = \\dot{\\theta}$\n",
    " * Angular Acceleration: $\\ddot q = \\ddot{\\theta}$"
   ]
  },
  {
   "cell_type": "code",
   "execution_count": null,
   "metadata": {},
   "outputs": [],
   "source": [
    "t = sympy.Symbol('t')  # Creates symbolic variable t for time\n",
    "\n",
    "# Creates symbolic variables theta, thetadot and thetaddot\n",
    "th = sympy.Function('theta')(t) \n",
    "th_dot = sympy.Function('theta_dot')(t) \n",
    "th_ddot = sympy.Function('theta_ddot')(t) "
   ]
  },
  {
   "cell_type": "markdown",
   "metadata": {},
   "source": [
    " Recall that the Lagrangian of a mechanical system is defined as:\n",
    " $$\n",
    " L = K - V\n",
    " $$"
   ]
  },
  {
   "cell_type": "code",
   "execution_count": null,
   "metadata": {},
   "outputs": [],
   "source": [
    "# Position Equation: r = [x, y]\n",
    "r = np.array([0, 0]) # Type here\n",
    "print(\"Position: \",r)\n",
    "\n",
    "# Velocity Equation: d/dt(r) = [dx/dt, dy/dt]\n",
    "v = np.array([r[0].diff(t), r[1].diff(t)])\n",
    "print(\"Velocity: \",v)\n",
    "\n",
    "# Develop the Lagrangian of the system\n",
    "# Kinetic Energy\n",
    "K = 0 # Type here\n",
    "print(\"Kinetic Energy: \", sympy.simplify(K))\n",
    "\n",
    "# Potential Energy \n",
    "V = 0 # Type here\n",
    "print(\"Potential Energy: \", sympy.simplify(V))\n",
    "\n",
    "# Lagrangian\n",
    "L = K - V\n",
    "print(\"Lagrangian: \", sympy.simplify(L))"
   ]
  },
  {
   "cell_type": "markdown",
   "metadata": {},
   "source": [
    " The Euler-Lagrange equations can be used to derive the Equations of Motion (EOM) of the system:\n",
    " $$\n",
    " \\frac{d}{dt}\\frac{\\partial L}{\\partial \\dot{\\mathbf{q}}} - \\frac{\\partial L}{\\partial \\mathbf{q}} = \\tau\n",
    " $$\n",
    " The EOM of any mechanical system can be written in the canonical form:\n",
    " $$\n",
    " \\mathbf{M} (\\mathbf{q}) \\ddot{\\mathbf{q}} +  \\mathbf{C} (\\mathbf{q}, \\dot{\\mathbf{q}}) = \\tau\n",
    " $$"
   ]
  },
  {
   "cell_type": "code",
   "execution_count": null,
   "metadata": {},
   "outputs": [],
   "source": [
    "# Lagrange Terms:\n",
    "dL_dth = L.diff(th)\n",
    "dL_dth_dt = L.diff(th.diff(t)).diff(t)\n",
    "\n",
    "# Euler-Lagrange Equations: dL/dq - d/dt(dL/ddq) = 0\n",
    "eom = sympy.simplify(dL_dth_dt - dL_dth)\n",
    "\n",
    "# Replace Time Derivatives and Functions with Symbolic Variables:\n",
    "replacements = [(th.diff(t).diff(t), sympy.Symbol('th_ddot')), (th.diff(t),  sympy.Symbol('th_dot')), (th,  sympy.Symbol('th'))]\n",
    "# Note: Replace in order of decreasing derivative order\n",
    "eom = eom.subs(replacements)  # Use Subs method to substitute in the Symbolic Variables\n",
    "print(\"tau = \", eom)"
   ]
  },
  {
   "cell_type": "markdown",
   "metadata": {},
   "source": [
    "Additionally, we may add a damping term to account for the dissipation of energy in the joint of the pendulum. We can call this term $\\tau_{d}$.\n",
    "\n",
    "In this case, we model the damping as torque proportional and opposite in direction to $\\dot{\\mathbf{q}}$.\n",
    "\n",
    "$$\n",
    "\\tau_{d} = -\\mathbf{b} \\dot{\\mathbf{q}}\n",
    "$$\n",
    "\n",
    "$$\n",
    "\\mathbf{M} (\\mathbf{q}) \\ddot{\\mathbf{q}} +  \\mathbf{C} (\\mathbf{q}, \\dot{\\mathbf{q}}) = \\tau + \\tau_{d}\n",
    "$$"
   ]
  },
  {
   "cell_type": "code",
   "execution_count": null,
   "metadata": {},
   "outputs": [],
   "source": [
    "b = sympy.Symbol('b')  # damping\n",
    "\n",
    "eom = eom + b*th.diff(t)\n",
    "eom = eom.subs(replacements)\n",
    "print(\"tau = \", eom)"
   ]
  },
  {
   "cell_type": "markdown",
   "metadata": {},
   "source": [
    "## 2. Forward and Inverse Dynamics"
   ]
  },
  {
   "cell_type": "markdown",
   "metadata": {},
   "source": [
    "**Inverse Dynamics** is defined as the problem of solving for the generalized forces given the position, velocity and acceleration of the mechanical system in generalized coordinates. \n",
    "$$\n",
    "\\tau = \\text{idyn}(\\mathbf{q}, \\dot{\\mathbf{q}}, \\ddot{\\mathbf{q}}) = \\mathbf{M} (\\mathbf{q}) \\ddot{\\mathbf{q}} +  \\mathbf{C} (\\mathbf{q}, \\dot{\\mathbf{q}}) \n",
    "$$"
   ]
  },
  {
   "cell_type": "code",
   "execution_count": null,
   "metadata": {},
   "outputs": [],
   "source": [
    "def inverse_dynamics(self, th, th_dot, th_ddot):\n",
    "    \"\"\"\n",
    "    return torque acting on the revolute joint (tau) in terms of inputs\n",
    "    use self.m, self.g, self.l, and self.b if needed\n",
    "    \"\"\"\n",
    "    m = self.m\n",
    "    g = self.g\n",
    "    l = self.l\n",
    "    b = self.b\n",
    "    \n",
    "    tau = 0.0 # Type Here!\n",
    "\n",
    "    return tau"
   ]
  },
  {
   "cell_type": "markdown",
   "metadata": {},
   "source": [
    "**Forward Dynamics** is defined as the problem of solving for the generalized acceleration of the mechanical system, given generalized position, velocity and forces acting on the system. \n",
    "\n",
    "$$\n",
    "\\ddot{\\mathbf{q}} = \\text{fdyn}(\\mathbf{q}, \\dot{\\mathbf{q}}, \\tau) = \\mathbf{M}^{-1} (\\mathbf{q}) \\left( \\tau -  \\mathbf{C} (\\mathbf{q}, \\dot{\\mathbf{q}}) \\right)\n",
    "$$\n",
    "\n",
    "Note: Forward Dynamics of a mechanical system is a **second-order ordinary differential equation (ODE)**. "
   ]
  },
  {
   "cell_type": "code",
   "execution_count": null,
   "metadata": {},
   "outputs": [],
   "source": [
    "def forward_dynamics(self, th, th_dot, tau):\n",
    "    \"\"\"\n",
    "    Return acceleration from current position, velocity and torque.\n",
    "    \"\"\"\n",
    "    m = self.m\n",
    "    g = self.g\n",
    "    l = self.l\n",
    "    b = self.b\n",
    "\n",
    "    th_ddot = 0.0 # Type Here!\n",
    "    \n",
    "    return th_ddot"
   ]
  },
  {
   "cell_type": "markdown",
   "metadata": {
    "cell_id": "9570a0d4e06749b8a4827d1d445d6766",
    "deepnote_cell_height": 70,
    "deepnote_cell_type": "markdown"
   },
   "source": [
    "## 3. Simulation using Forward Dynamics"
   ]
  },
  {
   "cell_type": "markdown",
   "metadata": {
    "cell_id": "3dcbdb0c4d7647009a639738cb7fd64f",
    "deepnote_cell_height": 936.9666748046875,
    "deepnote_cell_type": "markdown"
   },
   "source": [
    "The state space of the system is the tuple of $\\theta$ and its time derivative $\\dot{\\theta}$:\n",
    "$$\n",
    "\\mathbf{x} = (\\mathbf{q}, \\dot{\\mathbf{q}})\n",
    "$$\n",
    "The state space form of a dynamical system is given by:\n",
    "$$\n",
    "\\dot{\\mathbf{x}} = \\mathbf{f}(\\mathbf{x}, \\mathbf{u})\n",
    "$$\n",
    "where $\\mathbf{u}$ is the vector of control input. Note that the above form is a **first-order ODE**. \n",
    "\n",
    "Using the forward dynamics, one can deduce the first-order ODE of any mechanical system using the following technique:\n",
    "$$\n",
    "\\dot{\\mathbf{x}} = \\mathbf{f}(\\mathbf{x}, \\mathbf{u}) = \n",
    "\\begin{bmatrix}\n",
    "\\dot{\\mathbf{q}}\\\\ \n",
    "\\mathbf{M}^{-1} (\\mathbf{q}) \\left( \\tau -  \\mathbf{C} (\\mathbf{q}, \\dot{\\mathbf{q}}) \\right)\n",
    "\\end{bmatrix}\n",
    "$$\n",
    "\n",
    "The solution of this first-order ODE can be used to develop a dynamics simulator for a rigid multi-body system. While this can not be solved analytically, even for simpler systems, we can use numerical schemes to solve the ODEs.\n",
    "\n",
    "Given an initial state $\\mathbf{x}_0$, input  $\\mathbf{u}$ and time step $dt$, we can predict the behavior of the mechanical system in the next time step using a numerical integration scheme. "
   ]
  },
  {
   "cell_type": "code",
   "execution_count": null,
   "metadata": {
    "cell_id": "d3f2cbcfc09549c6b8d968e6d21ad0e9",
    "deepnote_cell_height": 192,
    "deepnote_cell_type": "code",
    "deepnote_to_be_reexecuted": false,
    "execution_millis": 2035,
    "execution_start": 1719173349952,
    "owner_user_id": "ec4a3157-0dba-4c2d-8039-c3b5b15cac41",
    "source_hash": null
   },
   "outputs": [],
   "source": [
    "import numpy as np\n",
    "import matplotlib.pyplot as plt\n",
    "import math \n",
    "\n",
    "%matplotlib inline\n",
    "from IPython.display import HTML\n",
    "\n",
    "from pendulum_plant import PendulumPlant, plot_timeseries"
   ]
  },
  {
   "cell_type": "markdown",
   "metadata": {
    "cell_id": "39b3a53f4df1426883f272d9856d50fd",
    "deepnote_cell_height": 52.399993896484375,
    "deepnote_cell_type": "markdown"
   },
   "source": [
    "The cell below constructs a pendulum object with the specified dynamic parameters. For now, our damping will be zero."
   ]
  },
  {
   "cell_type": "code",
   "execution_count": null,
   "metadata": {
    "cell_id": "22a7e71d70734ad89aad114d184638d9",
    "deepnote_cell_height": 282,
    "deepnote_cell_type": "code",
    "deepnote_to_be_reexecuted": false,
    "execution_millis": 54,
    "execution_start": 1719173354294,
    "source_hash": null
   },
   "outputs": [],
   "source": [
    "mass = 0.06      # mass at the end of the pendulum [kg]\n",
    "length = 0.1    # length of the rod [m]\n",
    "damping = 0.0   # viscious friction [kg m/s]\n",
    "gravity = 9.81  # gravity [kg m/s²]\n",
    "inertia = mass*length*length   # inertia of the pendulum [kg m²]\n",
    "torque_limit = np.inf  # torque limit of the motor, here we assume the motor can produce any torque\n",
    "\n",
    "pendulum = PendulumPlant(mass=mass,\n",
    "                         length=length,\n",
    "                         damping=damping,\n",
    "                         gravity=gravity,\n",
    "                         inertia=inertia,\n",
    "                         torque_limit=torque_limit)\n",
    "\n",
    "# Add the forward dynamics method you implemented to the pendulum plant class \n",
    "PendulumPlant.forward_dynamics = forward_dynamics\n",
    "\n",
    "# Add the inverse dynamics method you implemented to the pendulum plant class \n",
    "PendulumPlant.inverse_dynamics = inverse_dynamics"
   ]
  },
  {
   "cell_type": "markdown",
   "metadata": {},
   "source": [
    "The first step we must take to design our integration scheme is to get our ODE."
   ]
  },
  {
   "cell_type": "code",
   "execution_count": null,
   "metadata": {},
   "outputs": [],
   "source": [
    "def f(self, t, x, tau):\n",
    "\n",
    "    \"\"\"\n",
    "    Computes the rhs of the first order ODE.\n",
    "    Hint: use the self.forward_dynamics function to compute acceleration\n",
    "    \"\"\"\n",
    "    accn = 0.0 # Type Here!\n",
    "    xdot = np.array([x[1], accn])\n",
    "    return xdot # Return xdot\n",
    "\n",
    "PendulumPlant.f = f"
   ]
  },
  {
   "cell_type": "markdown",
   "metadata": {},
   "source": [
    "### 3.1 Explicit Euler integration scheme"
   ]
  },
  {
   "cell_type": "markdown",
   "metadata": {},
   "source": [
    "Using Euler integration scheme leads to the following update rule: \n",
    "$$\n",
    "\\mathbf{x}[n+1] = \\mathbf{x}[n] + \\mathbf{f}(\\mathbf{x}[n], \\mathbf{u}[n]) dt\n",
    "$$\n",
    "\n",
    "Complete the following function implementing an explicit Euler integration scheme:"
   ]
  },
  {
   "cell_type": "code",
   "execution_count": null,
   "metadata": {},
   "outputs": [],
   "source": [
    "def euler_integrator(self, t, x, dt, tau):\n",
    "\n",
    "    x_new = np.zeros(2) # Type here\n",
    "    return x_new\n",
    "\n",
    "PendulumPlant.euler_integrator = euler_integrator"
   ]
  },
  {
   "cell_type": "markdown",
   "metadata": {
    "cell_id": "fd23fa8c6dce49689d490ebd0245e1b7",
    "deepnote_cell_height": 314.79998779296875,
    "deepnote_cell_type": "markdown"
   },
   "source": [
    "In order to simulate and animate a motion of the pendulum you can call the simulate_and_animate class method. The arguments are:\n",
    "\n",
    "    - t0: the initial time\n",
    "    - x0: the initial state vector containing position and velocity of the pendulum [th, th_dot]\n",
    "    - tf: the final time\n",
    "    - dt: the integration timestep\n",
    "    - controller: controller object providing torques for the motor (introduced later)\n",
    "    - integrator: the integration method. options are \"euler\" and \"runge_kutta\"\n",
    "    \n",
    "The method returns the trajectory split in to time (T), state (X) and torques (U) as well as an animation object.\n",
    "\n",
    "Note: If you do not need the animation you can also call the method \"simulate\" with the same parameters. The method returns T, X, U but no animation object."
   ]
  },
  {
   "cell_type": "code",
   "execution_count": null,
   "metadata": {
    "cell_id": "e7958a58cdf94873bc6b71738f16d8e1",
    "deepnote_cell_height": 192,
    "deepnote_cell_type": "code",
    "deepnote_to_be_reexecuted": false,
    "execution_millis": 343,
    "execution_start": 1719173358348,
    "source_hash": null
   },
   "outputs": [],
   "source": [
    "%%capture\n",
    "Tsim_euler, Xsim_euler, Usim_euler, anim_euler = pendulum.simulate_and_animate(\n",
    "              t0=0.0,\n",
    "              x0=[0.78, 0.0],\n",
    "              tf=5.0,\n",
    "              dt=0.002,\n",
    "              controller=None,\n",
    "              integrator=\"euler\")"
   ]
  },
  {
   "cell_type": "markdown",
   "metadata": {
    "cell_id": "a57f750662364ae7a4da6016616ed072",
    "deepnote_cell_height": 52.399993896484375,
    "deepnote_cell_type": "markdown"
   },
   "source": [
    "to show the animation in this notebook call (may take around a minute)"
   ]
  },
  {
   "cell_type": "code",
   "execution_count": null,
   "metadata": {
    "cell_id": "6a81d7fa25f846beb71ea825f8a20a67",
    "deepnote_cell_height": 66,
    "deepnote_cell_type": "code",
    "deepnote_to_be_reexecuted": false,
    "execution_millis": 88388,
    "execution_start": 1719173363014,
    "scrolled": true,
    "source_hash": null
   },
   "outputs": [],
   "source": [
    "HTML(anim_euler.to_html5_video())"
   ]
  },
  {
   "cell_type": "markdown",
   "metadata": {
    "cell_id": "a22afa1625e14a9994eebe135cd79ef0",
    "deepnote_cell_height": 74.80000305175781,
    "deepnote_cell_type": "markdown"
   },
   "source": [
    "You can use the plot_timeseries function to plot the trajectories (position, velocity and torque). Of course you can also plot these in any other way you like."
   ]
  },
  {
   "cell_type": "code",
   "execution_count": null,
   "metadata": {
    "cell_id": "ddda9223870e457587247e26471c8deb",
    "deepnote_cell_height": 66,
    "deepnote_cell_type": "code",
    "deepnote_to_be_reexecuted": false,
    "execution_millis": 218,
    "execution_start": 1719173472328,
    "source_hash": null
   },
   "outputs": [],
   "source": [
    "plot_timeseries(Tsim_euler, Xsim_euler, Usim_euler)"
   ]
  },
  {
   "cell_type": "markdown",
   "metadata": {},
   "source": [
    "As you can observe, the video rendering in Jupyter is quite slow. But simulating the pendulum is not. Hence, use the simulate() method instead which suppresses the animation but still solves the ODE for you.  "
   ]
  },
  {
   "cell_type": "code",
   "execution_count": null,
   "metadata": {
    "scrolled": true
   },
   "outputs": [],
   "source": [
    "Tsim_euler_s, Xsim_euler_s, Usim_euler_s = pendulum.simulate(\n",
    "              t0=0.0,\n",
    "              x0=[0.78, 0.0],\n",
    "              tf=10.0,\n",
    "              dt=0.002,\n",
    "              controller=None,\n",
    "              integrator=\"euler\")\n",
    "plot_timeseries(Tsim_euler_s, Xsim_euler_s, Usim_euler_s)"
   ]
  },
  {
   "cell_type": "markdown",
   "metadata": {},
   "source": [
    "### 3.2 Fourth Order Runge-Kutta integration scheme"
   ]
  },
  {
   "cell_type": "markdown",
   "metadata": {},
   "source": [
    "Using the fourth order Runge-Kutta integration scheme leads to the following update rule: \n",
    "$$\n",
    "\\mathbf{x}[n+1] = \\mathbf{x}[n] + \\frac{dt}{6}(\\mathbf{k}_1 + 2\\mathbf{k}_2 + 2\\mathbf{k}_3 + \\mathbf{k}_4)\n",
    "$$\n",
    "\n",
    "$$\n",
    "t_{n+1} = t_n + dt\n",
    "$$\n",
    "\n",
    "where\n",
    "\n",
    "$$\n",
    "\\mathbf{k}_1  =\\mathbf{f}(t_{n}, \\mathbf{x}_{n})\n",
    "$$\n",
    "\n",
    "$$\n",
    "\\mathbf{k}_2  =\\mathbf{f}(t_{n} + \\frac{dt}{2}, \\mathbf{x}_{n} + dt \\frac{\\mathbf{k}_1}{2})\n",
    "$$\n",
    "\n",
    "$$\n",
    "\\mathbf{k}_3  =\\mathbf{f}(t_{n} + \\frac{dt}{2}, \\mathbf{x}_{n} + dt \\frac{\\mathbf{k}_2}{2})\n",
    "$$\n",
    "\n",
    "$$\n",
    "\\mathbf{k}_4  =\\mathbf{f}(t_{n} + dt, \\mathbf{x}_{n} + dt \\mathbf{k}_3)\n",
    "$$\n",
    "\n",
    "Complete the following function implementing an fourth order Runge-Kutta integration scheme:"
   ]
  },
  {
   "cell_type": "code",
   "execution_count": null,
   "metadata": {},
   "outputs": [],
   "source": [
    "def runge_integrator(self, t, x, dt, tau):\n",
    "    \n",
    "    k1 = np.zeros(2) # Type Here\n",
    "    k2 = np.zeros(2) # Type Here\n",
    "    k3 = np.zeros(2) # Type Here\n",
    "    k4 = np.zeros(2) # Type Here\n",
    "    integ = np.zeros(2) # Type Here\n",
    "\n",
    "    x_new = x + dt*integ\n",
    "\n",
    "    return x_new\n",
    "    \n",
    "PendulumPlant.runge_integrator = runge_integrator"
   ]
  },
  {
   "cell_type": "code",
   "execution_count": null,
   "metadata": {
    "cell_id": "e7958a58cdf94873bc6b71738f16d8e1",
    "deepnote_cell_height": 192,
    "deepnote_cell_type": "code",
    "deepnote_to_be_reexecuted": false,
    "execution_millis": 343,
    "execution_start": 1719173358348,
    "source_hash": null
   },
   "outputs": [],
   "source": [
    "%%capture\n",
    "Tsim_RK4, Xsim_RK4, Usim_RK4, anim_RK4 = pendulum.simulate_and_animate(\n",
    "              t0=0.0,\n",
    "              x0=[0.78, 0.0],\n",
    "              tf=5.0,\n",
    "              dt=0.002,\n",
    "              controller=None,\n",
    "              integrator=\"runge_kutta\")"
   ]
  },
  {
   "cell_type": "code",
   "execution_count": null,
   "metadata": {},
   "outputs": [],
   "source": [
    "HTML(anim_RK4.to_html5_video())"
   ]
  },
  {
   "cell_type": "code",
   "execution_count": null,
   "metadata": {
    "scrolled": true
   },
   "outputs": [],
   "source": [
    "Tsim_RK4, Xsim_RK4, Usim_RK4 = pendulum.simulate(\n",
    "              t0=0.0,\n",
    "              x0=[1.57, 0.0],\n",
    "              tf=10.0,\n",
    "              dt=0.01,\n",
    "              controller=None,\n",
    "              integrator=\"runge_kutta\")\n",
    "plot_timeseries(Tsim_RK4, Xsim_RK4, Usim_RK4)"
   ]
  },
  {
   "cell_type": "markdown",
   "metadata": {},
   "source": [
    "## Think-Pair-Share \n",
    "\n",
    "Try to play around with different initial conditions (x0), time step (dt), total simulation time (tf) choices! What do you observe?\n",
    "\n",
    "1. Which integrator do you prefer?\n",
    "2. What are the trade-offs of smaller vs bigger time steps?\n",
    "3. What are the most interesting initial conditions? Can you already identify fixed points of the systems? What are attractors and repellors? Try adding damping to the simulation by modifying b in the definition of pendulum.\n",
    "4. How accurate do you find these simulations? "
   ]
  },
  {
   "cell_type": "markdown",
   "metadata": {
    "cell_id": "b146091e5fab44dca2c253cdfa18cf16",
    "deepnote_cell_height": 70,
    "deepnote_cell_type": "markdown"
   },
   "source": [
    "## 4. Gravity Compensation Control using Inverse Dynamics"
   ]
  },
  {
   "cell_type": "markdown",
   "metadata": {},
   "source": [
    "### 4.1 Gravity Compensation"
   ]
  },
  {
   "cell_type": "markdown",
   "metadata": {
    "cell_id": "6546d609d8484069a8cf4525db356517",
    "deepnote_cell_height": 214.8000030517578,
    "deepnote_cell_type": "markdown"
   },
   "source": [
    "The gravity compensating controller cancels out the gravitational effect acting on the mass of the pendulum. With gravity compensation active, the pendulum will behave as it would in space.\n",
    "\n",
    "The cell below shows the very basic structure of a controller class that the simulation method of the pendulum plant expects. Especially interesting is the get_control_output method. This method is called at every simulation step. Here the controller receives the current state of the pendulum and can compute a torque from that state, resulting in a reactive controller.\n",
    "\n",
    "Please fill in the get_control method below, so that the returned torque cancels out the gravity effects acting on the pendulum mass."
   ]
  },
  {
   "cell_type": "code",
   "execution_count": null,
   "metadata": {
    "cell_id": "60ae7a4229464308bcd549a6b3aeceb6",
    "deepnote_cell_height": 282,
    "deepnote_cell_type": "code",
    "deepnote_to_be_reexecuted": false,
    "execution_millis": 17,
    "execution_start": 1719173578432,
    "source_hash": null
   },
   "outputs": [],
   "source": [
    "class GravityCompController():\n",
    "    def __init__(self, mass, length, gravity):\n",
    "        self.g = gravity        # gravitational acceleration on earth\n",
    "        self.m = mass           # mass at the end of the pendulum\n",
    "        self.l = length         # length of the rod\n",
    "\n",
    "    def get_control_output(self, x):\n",
    "        # compensate gravity with input torque\n",
    "        m = self.m\n",
    "        g = self.g\n",
    "        l = self.l\n",
    "        # Angle theta is available to you as a part of the state vector\n",
    "        theta = x[0]\n",
    "        \n",
    "        ## Your Code Here        \n",
    "        tau = 0.0  # Type Here! In terms of local variables m, g and l\n",
    "        ##\n",
    "        return tau"
   ]
  },
  {
   "cell_type": "markdown",
   "metadata": {
    "cell_id": "9854028a409a4bd195c8f372fcb4d52b",
    "deepnote_cell_height": 52.399993896484375,
    "deepnote_cell_type": "markdown"
   },
   "source": [
    "Next, we can initialize a controller object"
   ]
  },
  {
   "cell_type": "code",
   "execution_count": null,
   "metadata": {
    "cell_id": "7bf68e0403464e3c96e3e96a3aa80c3b",
    "deepnote_cell_height": 102,
    "deepnote_cell_type": "code",
    "deepnote_to_be_reexecuted": false,
    "execution_millis": 35,
    "execution_start": 1719173581748,
    "source_hash": null
   },
   "outputs": [],
   "source": [
    "grav_con = GravityCompController(mass=mass,\n",
    "                                 length=length,\n",
    "                                 gravity=gravity)"
   ]
  },
  {
   "cell_type": "markdown",
   "metadata": {
    "cell_id": "8341ea670a8f4cfa8afad1c12b93c0b0",
    "deepnote_cell_height": 52.399993896484375,
    "deepnote_cell_type": "markdown"
   },
   "source": [
    "and start a simulation with this controller"
   ]
  },
  {
   "cell_type": "code",
   "execution_count": null,
   "metadata": {
    "scrolled": true
   },
   "outputs": [],
   "source": [
    "Tsim_RK4, Xsim_RK4, Usim_RK4 = pendulum.simulate(\n",
    "              t0=0.0,\n",
    "              x0=[np.pi/2, 0.0],\n",
    "              tf=10.0,\n",
    "              dt=0.01,\n",
    "              controller=grav_con,\n",
    "              integrator=\"runge_kutta\")\n",
    "plot_timeseries(Tsim_RK4, Xsim_RK4, Usim_RK4)"
   ]
  },
  {
   "cell_type": "markdown",
   "metadata": {
    "cell_id": "527c301543364602804cbf0945830b44",
    "deepnote_cell_height": 111.19999694824219,
    "deepnote_cell_type": "markdown"
   },
   "source": [
    "If you implemented the torque response correctly, the pendulum should hold still at half height.\n",
    "\n",
    "To see that the controller is actually doing something you can initialize the controller e.g. with 0.95*gravity and see the pendulum slowly falling down."
   ]
  },
  {
   "cell_type": "markdown",
   "metadata": {},
   "source": [
    "### 4.2 PID + Gravity compensation"
   ]
  },
  {
   "cell_type": "markdown",
   "metadata": {},
   "source": [
    "Let's say we want to use gravity compensation to achieve a smooth swing-up motion with our pendulum. "
   ]
  },
  {
   "cell_type": "code",
   "execution_count": null,
   "metadata": {},
   "outputs": [],
   "source": [
    "class GravityPIDController():\n",
    "    def __init__(self, mass, length, gravity, torque_limit, Kp, Ki, Kd, dt, grav_con):\n",
    "        self.g = gravity        # gravitational acceleration on earth\n",
    "        self.m = mass           # mass at the end of the pendulum\n",
    "        self.l = length         # length of the rod\n",
    "        \n",
    "        self.Kp = Kp\n",
    "        self.Ki = Ki\n",
    "        self.Kd = Kd\n",
    "        self.torque_limit = torque_limit\n",
    "        \n",
    "        self.dt = dt\n",
    "\n",
    "        self.GC = grav_con # Gravity compensation controller\n",
    "        \n",
    "        self.errors = []\n",
    "\n",
    "    def set_goal(self, goal=[np.pi, 0.0]):\n",
    "        self.goal = goal\n",
    "\n",
    "    def get_control_output(self, x):\n",
    "        # Extract current state variables\n",
    "        theta = x[0]  # current angle of the pendulum\n",
    "\n",
    "        # Compute the error\n",
    "        error = self.goal[0] - theta\n",
    "\n",
    "        # Store the current error for the next iteration\n",
    "        self.errors.append(error)\n",
    "\n",
    "        # Compute the integral of the error\n",
    "        integral = np.sum(self.errors) * self.dt\n",
    "\n",
    "        # Compute the derivative of the error\n",
    "        if len(self.errors) > 1:\n",
    "            derivative = (self.errors[-1] - self.errors[-2]) / self.dt\n",
    "        else:\n",
    "            derivative = 0.0\n",
    "\n",
    "        # Compute the control output\n",
    "        tau = self.Kp * error + self.Ki * integral + self.Kd * derivative # PID version\n",
    "        #tau = self.Kp * error - self.Kd * x[1] # PD version\n",
    "        \n",
    "        # add gravity compensation\n",
    "        #tau += self.m * self.g * self.l * np.sin(theta)\n",
    "        tau += self.GC.get_control_output(x)\n",
    "        tau = np.clip(tau,-self.torque_limit, self.torque_limit)\n",
    "        \n",
    "        return tau"
   ]
  },
  {
   "cell_type": "code",
   "execution_count": null,
   "metadata": {},
   "outputs": [],
   "source": [
    "# Gravity PID controller instance\n",
    "grav_pid_con = GravityPIDController(mass, length, gravity, torque_limit = 0.14,\n",
    "                                    Kp=0.01, Ki=0.001, Kd=0.001, dt=0.01, grav_con = grav_con)\n",
    "grav_pid_con.set_goal([np.pi, 0.0])"
   ]
  },
  {
   "cell_type": "code",
   "execution_count": null,
   "metadata": {
    "cell_id": "91049014f165446b8981094a71ccb7e9",
    "deepnote_cell_height": 192,
    "deepnote_cell_type": "code",
    "deepnote_to_be_reexecuted": false,
    "execution_millis": 474,
    "execution_start": 1719173583964,
    "source_hash": null
   },
   "outputs": [],
   "source": [
    "%%capture\n",
    "Tsim_pid_gc, Xsim_pid_gc, Usim_pid_gc, anim_pid_gc = pendulum.simulate_and_animate(\n",
    "              t0=0.0,\n",
    "              x0=[0.001, 0.0],\n",
    "              tf=10.0,\n",
    "              dt=0.01,\n",
    "              controller=grav_pid_con,\n",
    "              integrator=\"runge_kutta\")"
   ]
  },
  {
   "cell_type": "code",
   "execution_count": null,
   "metadata": {
    "cell_id": "bb843547d0ab44bbba3fea82250b328e",
    "deepnote_cell_height": 66,
    "deepnote_cell_type": "code",
    "deepnote_to_be_reexecuted": false,
    "execution_millis": 97730,
    "execution_start": 1719173587377,
    "source_hash": null
   },
   "outputs": [],
   "source": [
    "HTML(anim_pid_gc.to_html5_video())"
   ]
  },
  {
   "cell_type": "code",
   "execution_count": null,
   "metadata": {
    "cell_id": "c10ed6186cc644619bc20de66c9bf85a",
    "deepnote_cell_height": 66,
    "deepnote_cell_type": "code",
    "deepnote_to_be_reexecuted": false,
    "execution_millis": 514,
    "execution_start": 1719173706806,
    "source_hash": null
   },
   "outputs": [],
   "source": [
    "plot_timeseries(Tsim_pid_gc, Xsim_pid_gc, Usim_pid_gc)"
   ]
  },
  {
   "cell_type": "code",
   "execution_count": null,
   "metadata": {
    "scrolled": true
   },
   "outputs": [],
   "source": [
    "Tsim_pid_gc_s, Xsim_pid_gc_s, Usim_pid_gc_s = pendulum.simulate(\n",
    "              t0=0.0,\n",
    "              x0=[0.001, 0.0],\n",
    "              tf=10.0,\n",
    "              dt=0.01,\n",
    "              controller=grav_pid_con,\n",
    "              integrator=\"runge_kutta\")\n",
    "plot_timeseries(Tsim_pid_gc_s, Xsim_pid_gc_s, Usim_pid_gc_s)"
   ]
  },
  {
   "cell_type": "markdown",
   "metadata": {},
   "source": [
    "## Think-Pair-Share\n",
    "\n",
    "What happens if you modify the instance of the gravity PID controller? \n",
    "\n",
    "- Try adding a torque limit of 0.03 Nm, for instance. What do you see? Do you reach the desired position?\n",
    "- Play around with the gains of the PID. What is the lowest torque limit for which the pendulum reaches the desired position?"
   ]
  },
  {
   "cell_type": "markdown",
   "metadata": {},
   "source": [
    "## 5. Experiments on Pendulum Hardware"
   ]
  },
  {
   "cell_type": "markdown",
   "metadata": {},
   "source": [
    "The following image shows a hardware prototype of an active pendulum system actuated with a small direct drive actuator (GL35 from T-motors with rated torque of 0.15 Nm and peak torque of 0.45 Nm). The control electronics are provided by MAB robotics. This system has been integrated in Chalmers Cloud infrastructure and students can remotely access the pendulum and get live experimental data from it with the comfort of their web-browsers. The maximum length of the experiment is **30 seconds** in each booking request. \n",
    "\n",
    "<img src=\"media/pendulum_hardware.jpeg\" width=\"400\">\n"
   ]
  },
  {
   "cell_type": "code",
   "execution_count": null,
   "metadata": {},
   "outputs": [],
   "source": [
    "user_token = \"Your User Token Here\""
   ]
  },
  {
   "cell_type": "markdown",
   "metadata": {},
   "source": [
    "## 5a. Free-fall Experiment"
   ]
  },
  {
   "cell_type": "code",
   "execution_count": null,
   "metadata": {},
   "outputs": [],
   "source": [
    "tf = 10 # Final time (s)\n",
    "dt = 0.01 # Time step (s)\n",
    "x0 = [1.57, 0.0] # Desired initial state. Note: desired velocity won't be respected in present implementation.\n",
    "Treal_ff, Xreal_ff, Ureal_ff, Ureal_gc_des, video_path = pendulum.run_on_hardware(tf, dt, controller=None, user_token=user_token, x0 = x0) \n",
    "\n",
    "# Measured Position\n",
    "plt.figure\n",
    "plt.plot(Treal_ff, np.asarray(Xreal_ff).T[0])\n",
    "plt.xlabel(\"Time (s)\")\n",
    "plt.ylabel(\"Position (rad)\")\n",
    "plt.title(\"Position (rad) vs Time (s)\")\n",
    "plt.show()\n",
    "\n",
    "# Measured Velocity\n",
    "plt.figure\n",
    "plt.plot(Treal_ff, np.asarray(Xreal_ff).T[1])\n",
    "plt.xlabel(\"Time (s)\")\n",
    "plt.ylabel(\"Velocity (rad/s)\")\n",
    "plt.title(\"Velocity (rad/s) vs Time (s)\")\n",
    "plt.show()\n",
    "\n",
    "# Measured Torque\n",
    "plt.figure\n",
    "plt.plot(Treal_ff, Ureal_ff)\n",
    "plt.xlabel(\"Time (s)\")\n",
    "plt.ylabel(\"Torque (Nm)\")\n",
    "plt.title(\"Torque (Nm) vs Time (s)\")\n",
    "plt.show()\n",
    "\n",
    "# Export the data to csv file\n",
    "measured_csv_data = np.array([Treal_ff, np.asarray(Xreal_ff).T[0], np.asarray(Xreal_ff).T[1],Ureal_ff]).T\n",
    "np.savetxt(\"ff_measured_data.csv\", measured_csv_data, delimiter=',', header=\"time,pos,vel,tau\", comments=\"\")\n",
    "\n",
    "# Show the video\n",
    "from IPython.display import Video\n",
    "Video(video_path)"
   ]
  },
  {
   "cell_type": "markdown",
   "metadata": {},
   "source": [
    "**Question: How does the behavior of the pendulum hardware differ from your simulation? What is missing in our previous plant model?**"
   ]
  },
  {
   "cell_type": "markdown",
   "metadata": {},
   "source": [
    "## 6b. Gravity Compensation Experiment"
   ]
  },
  {
   "cell_type": "markdown",
   "metadata": {},
   "source": [
    "Now we will test the gravity compensation controller that we developed directly on the real hardware. If your controller implementation is correct, you should be able to bring the pendulum by hand to any position in a quasi-static manner and it should hold itself. "
   ]
  },
  {
   "cell_type": "code",
   "execution_count": null,
   "metadata": {},
   "outputs": [],
   "source": [
    "tf = 10 # Final time (s)\n",
    "dt = 0.01 # Time step (s)\n",
    "x0 = [1.57, 0.0] # Desired initial state. Note: desired velocity won't be respected in present implementation.\n",
    "# runs the controller on hardware\n",
    "Treal_gc, Xreal_gc, Ureal_gc, Ureal_gc_des, video_path = pendulum.run_on_hardware(tf, dt, controller=grav_con, user_token=user_token, x0=x0) \n",
    "\n",
    "# Measured Position\n",
    "plt.figure\n",
    "plt.plot(Treal_gc, np.asarray(Xreal_gc).T[0])\n",
    "plt.xlabel(\"Time (s)\")\n",
    "plt.ylabel(\"Position (rad)\")\n",
    "plt.title(\"Position (rad) vs Time (s)\")\n",
    "plt.show()\n",
    "\n",
    "# Measured Velocity\n",
    "plt.figure\n",
    "plt.plot(Treal_gc, np.asarray(Xreal_gc).T[1])\n",
    "plt.xlabel(\"Time (s)\")\n",
    "plt.ylabel(\"Velocity (rad/s)\")\n",
    "plt.title(\"Velocity (rad/s) vs Time (s)\")\n",
    "plt.show()\n",
    "\n",
    "# Measured Torque\n",
    "plt.figure\n",
    "plt.plot(Treal_gc, Ureal_gc)\n",
    "plt.plot(Treal_gc, Ureal_gc_des)\n",
    "plt.xlabel(\"Time (s)\")\n",
    "plt.ylabel(\"Torque (Nm)\")\n",
    "plt.legend(['Measured Torque', 'Desired Torque'])\n",
    "plt.show()\n",
    "\n",
    "# Export the data to csv file\n",
    "measured_csv_data = np.array([Treal_gc, np.asarray(Xreal_gc).T[0], np.asarray(Xreal_gc).T[1],Ureal_gc]).T\n",
    "np.savetxt(\"gc_ff_measured_data.csv\", measured_csv_data, delimiter=',', header=\"time,pos,vel,tau\", comments=\"\")\n",
    "\n",
    "# Show the video\n",
    "from IPython.display import Video\n",
    "Video(video_path)"
   ]
  },
  {
   "cell_type": "markdown",
   "metadata": {},
   "source": [
    "**Question: Even though the pendulum hardware and simulation behavior is different, why does the gravity compensation controller still work?**"
   ]
  },
  {
   "cell_type": "markdown",
   "metadata": {},
   "source": [
    "## 6c. PID+Gravity Compensation Experiment"
   ]
  },
  {
   "cell_type": "code",
   "execution_count": null,
   "metadata": {},
   "outputs": [],
   "source": [
    "tf = 10 # Final time (s)\n",
    "dt = 0.01 # Time step (s)\n",
    "# runs the controller on hardware\n",
    "Treal_grav_pid_con, Xreal_grav_pid_con, Ureal_grav_pid_con, Ureal_grav_pid_con_des, video_path = pendulum.run_on_hardware(tf, dt, controller=grav_pid_con, user_token=user_token) \n",
    "\n",
    "Xdes_grav_pid_con = np.ones(int(tf/dt))*np.pi\n",
    "\n",
    "# Measured Position\n",
    "plt.figure\n",
    "plt.plot(Treal_grav_pid_con, np.asarray(Xreal_grav_pid_con).T[0])\n",
    "plt.plot(Treal_grav_pid_con, Xdes_grav_pid_con)\n",
    "plt.xlabel(\"Time (s)\")\n",
    "plt.ylabel(\"Position (rad)\")\n",
    "plt.title(\"Position (rad) vs Time (s)\")\n",
    "plt.show()\n",
    "\n",
    "# Measured Torque\n",
    "plt.figure\n",
    "plt.plot(Treal_grav_pid_con, Ureal_grav_pid_con)\n",
    "plt.plot(Treal_grav_pid_con, Ureal_grav_pid_con_des)\n",
    "plt.xlabel(\"Time (s)\")\n",
    "plt.ylabel(\"Torque (Nm)\")\n",
    "plt.legend(['Measured Torque', 'Desired Torque'])\n",
    "plt.show()\n",
    "\n",
    "# Show the video\n",
    "from IPython.display import Video\n",
    "Video(video_path)"
   ]
  },
  {
   "cell_type": "markdown",
   "metadata": {},
   "source": [
    "**Question: When you put a torque limit of 0.03 Nm, why does not the swing up work? Can you make it work somehow?**"
   ]
  },
  {
   "cell_type": "code",
   "execution_count": null,
   "metadata": {},
   "outputs": [],
   "source": []
  }
 ],
 "metadata": {
  "deepnote_execution_queue": [],
  "deepnote_notebook_id": "8f632f08faac4265b1451bf24e7d2e93",
  "deepnote_persisted_session": {
   "createdAt": "2024-06-23T20:31:48.403Z"
  },
  "kernelspec": {
   "display_name": "Python 3 (ipykernel)",
   "language": "python",
   "name": "python3"
  },
  "language_info": {
   "codemirror_mode": {
    "name": "ipython",
    "version": 3
   },
   "file_extension": ".py",
   "mimetype": "text/x-python",
   "name": "python",
   "nbconvert_exporter": "python",
   "pygments_lexer": "ipython3",
   "version": "3.12.6"
  }
 },
 "nbformat": 4,
 "nbformat_minor": 4
}
